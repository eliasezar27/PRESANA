{
  "nbformat": 4,
  "nbformat_minor": 0,
  "metadata": {
    "colab": {
      "name": "PRESANA_hawaii_covidCases.ipynb",
      "provenance": [],
      "collapsed_sections": []
    },
    "kernelspec": {
      "name": "python3",
      "display_name": "Python 3"
    },
    "language_info": {
      "name": "python"
    }
  },
  "cells": [
    {
      "cell_type": "code",
      "metadata": {
        "id": "SJcTXzvvij0I"
      },
      "source": [
        "from bs4 import BeautifulSoup\n",
        "import pandas as pd\n",
        "import matplotlib.pyplot as plt\n",
        "from google.colab import files"
      ],
      "execution_count": 22,
      "outputs": []
    },
    {
      "cell_type": "code",
      "metadata": {
        "id": "q51bwNcybSu_"
      },
      "source": [
        "htmldoc=\"/content/hawaii_covid_cases.html\"\n",
        "\n",
        "with open(htmldoc) as fp:\n",
        "    soup = BeautifulSoup(fp, \"html.parser\")   \n",
        "item = soup.find('g')\n"
      ],
      "execution_count": 15,
      "outputs": []
    },
    {
      "cell_type": "code",
      "metadata": {
        "id": "NDWBfCfoid1a"
      },
      "source": [
        "covid_cases_hawaii = pd.DataFrame([])"
      ],
      "execution_count": 16,
      "outputs": []
    },
    {
      "cell_type": "code",
      "metadata": {
        "id": "0fXEr5rLfarj"
      },
      "source": [
        "dates = []\n",
        "cases = []\n",
        "for i in item.find_all('g'):\n",
        "    dates.append(i[\"aria-label\"][18:30])\n",
        "    cases.append(int(i[\"aria-label\"][30:]))"
      ],
      "execution_count": 17,
      "outputs": []
    },
    {
      "cell_type": "code",
      "metadata": {
        "id": "6iTLQwMoj19J"
      },
      "source": [
        "covid_cases_hawaii['date'] = dates\n",
        "covid_cases_hawaii['date'] = pd.to_datetime(covid_cases_hawaii['date'])\n",
        "covid_cases_hawaii['cases'] = cases\n",
        "covid_cases_hawaii['cumsum'] = covid_cases_hawaii['cases'].cumsum(axis=0)"
      ],
      "execution_count": 18,
      "outputs": []
    },
    {
      "cell_type": "code",
      "metadata": {
        "colab": {
          "base_uri": "https://localhost:8080/",
          "height": 419
        },
        "id": "s8k87O10j_MY",
        "outputId": "76aea69f-d7ce-4650-a93d-36bcdc589cb9"
      },
      "source": [
        "covid_cases_hawaii"
      ],
      "execution_count": 24,
      "outputs": [
        {
          "output_type": "execute_result",
          "data": {
            "text/html": [
              "<div>\n",
              "<style scoped>\n",
              "    .dataframe tbody tr th:only-of-type {\n",
              "        vertical-align: middle;\n",
              "    }\n",
              "\n",
              "    .dataframe tbody tr th {\n",
              "        vertical-align: top;\n",
              "    }\n",
              "\n",
              "    .dataframe thead th {\n",
              "        text-align: right;\n",
              "    }\n",
              "</style>\n",
              "<table border=\"1\" class=\"dataframe\">\n",
              "  <thead>\n",
              "    <tr style=\"text-align: right;\">\n",
              "      <th></th>\n",
              "      <th>date</th>\n",
              "      <th>cases</th>\n",
              "      <th>cumsum</th>\n",
              "    </tr>\n",
              "  </thead>\n",
              "  <tbody>\n",
              "    <tr>\n",
              "      <th>0</th>\n",
              "      <td>2020-03-03</td>\n",
              "      <td>0.0</td>\n",
              "      <td>0.0</td>\n",
              "    </tr>\n",
              "    <tr>\n",
              "      <th>1</th>\n",
              "      <td>2020-03-04</td>\n",
              "      <td>0.0</td>\n",
              "      <td>0.0</td>\n",
              "    </tr>\n",
              "    <tr>\n",
              "      <th>2</th>\n",
              "      <td>2020-03-05</td>\n",
              "      <td>0.0</td>\n",
              "      <td>0.0</td>\n",
              "    </tr>\n",
              "    <tr>\n",
              "      <th>3</th>\n",
              "      <td>2020-03-06</td>\n",
              "      <td>0.0</td>\n",
              "      <td>0.0</td>\n",
              "    </tr>\n",
              "    <tr>\n",
              "      <th>4</th>\n",
              "      <td>2020-03-07</td>\n",
              "      <td>0.0</td>\n",
              "      <td>0.0</td>\n",
              "    </tr>\n",
              "    <tr>\n",
              "      <th>...</th>\n",
              "      <td>...</td>\n",
              "      <td>...</td>\n",
              "      <td>...</td>\n",
              "    </tr>\n",
              "    <tr>\n",
              "      <th>636</th>\n",
              "      <td>2021-11-29</td>\n",
              "      <td>2.0</td>\n",
              "      <td>11681.0</td>\n",
              "    </tr>\n",
              "    <tr>\n",
              "      <th>637</th>\n",
              "      <td>2021-11-30</td>\n",
              "      <td>3.0</td>\n",
              "      <td>11684.0</td>\n",
              "    </tr>\n",
              "    <tr>\n",
              "      <th>638</th>\n",
              "      <td>2021-12-01</td>\n",
              "      <td>17.0</td>\n",
              "      <td>11701.0</td>\n",
              "    </tr>\n",
              "    <tr>\n",
              "      <th>639</th>\n",
              "      <td>2021-12-02</td>\n",
              "      <td>10.0</td>\n",
              "      <td>11711.0</td>\n",
              "    </tr>\n",
              "    <tr>\n",
              "      <th>640</th>\n",
              "      <td>2021-12-03</td>\n",
              "      <td>26.0</td>\n",
              "      <td>11737.0</td>\n",
              "    </tr>\n",
              "  </tbody>\n",
              "</table>\n",
              "<p>641 rows × 3 columns</p>\n",
              "</div>"
            ],
            "text/plain": [
              "          date  cases   cumsum\n",
              "0   2020-03-03    0.0      0.0\n",
              "1   2020-03-04    0.0      0.0\n",
              "2   2020-03-05    0.0      0.0\n",
              "3   2020-03-06    0.0      0.0\n",
              "4   2020-03-07    0.0      0.0\n",
              "..         ...    ...      ...\n",
              "636 2021-11-29    2.0  11681.0\n",
              "637 2021-11-30    3.0  11684.0\n",
              "638 2021-12-01   17.0  11701.0\n",
              "639 2021-12-02   10.0  11711.0\n",
              "640 2021-12-03   26.0  11737.0\n",
              "\n",
              "[641 rows x 3 columns]"
            ]
          },
          "metadata": {},
          "execution_count": 24
        }
      ]
    },
    {
      "cell_type": "code",
      "metadata": {
        "colab": {
          "base_uri": "https://localhost:8080/",
          "height": 320
        },
        "id": "wJds1aRLkBQB",
        "outputId": "6d3f94da-a757-4366-ace7-4ceddb4cf8bb"
      },
      "source": [
        "plt.figure(figsize=(20,5))\n",
        "plt.bar(covid_cases_hawaii['date'], covid_cases_hawaii['cases'])\n",
        "plt.show()"
      ],
      "execution_count": 20,
      "outputs": [
        {
          "output_type": "display_data",
          "data": {
            "image/png": "[encoded data removed]",
            "text/plain": [
              "<Figure size 1440x360 with 1 Axes>"
            ]
          },
          "metadata": {
            "needs_background": "light"
          }
        }
      ]
    },
    {
      "cell_type": "code",
      "metadata": {
        "colab": {
          "base_uri": "https://localhost:8080/",
          "height": 320
        },
        "id": "YIauLoqDrMvL",
        "outputId": "f2891f3d-0f0c-4f0d-8c9c-934ae73a3f4c"
      },
      "source": [
        "plt.figure(figsize=(20,5))\n",
        "plt.bar(covid_cases_hawaii['date'], covid_cases_hawaii['cumsum'])\n",
        "plt.show()"
      ],
      "execution_count": 21,
      "outputs": [
        {
          "output_type": "display_data",
          "data": {
            "image/png": "[encoded data removed]",
            "text/plain": [
              "<Figure size 1440x360 with 1 Axes>"
            ]
          },
          "metadata": {
            "needs_background": "light"
          }
        }
      ]
    },
    {
      "cell_type": "code",
      "metadata": {
        "colab": {
          "base_uri": "https://localhost:8080/",
          "height": 17
        },
        "id": "AU4KdcOFroVo",
        "outputId": "d414ca93-ea12-4525-c8da-a7aa7019c9ca"
      },
      "source": [
        "csv_file=\"/content/hawaii_covid_cases.csv\"\n",
        "covid_cases_hawaii.to_csv(csv_file, index=False)\n",
        "files.download(csv_file)"
      ],
      "execution_count": 25,
      "outputs": [
        {
          "output_type": "display_data",
          "data": {
            "application/javascript": [
              "\n",
              "    async function download(id, filename, size) {\n",
              "      if (!google.colab.kernel.accessAllowed) {\n",
              "        return;\n",
              "      }\n",
              "      const div = document.createElement('div');\n",
              "      const label = document.createElement('label');\n",
              "      label.textContent = `Downloading \"${filename}\": `;\n",
              "      div.appendChild(label);\n",
              "      const progress = document.createElement('progress');\n",
              "      progress.max = size;\n",
              "      div.appendChild(progress);\n",
              "      document.body.appendChild(div);\n",
              "\n",
              "      const buffers = [];\n",
              "      let downloaded = 0;\n",
              "\n",
              "      const channel = await google.colab.kernel.comms.open(id);\n",
              "      // Send a message to notify the kernel that we're ready.\n",
              "      channel.send({})\n",
              "\n",
              "      for await (const message of channel.messages) {\n",
              "        // Send a message to notify the kernel that we're ready.\n",
              "        channel.send({})\n",
              "        if (message.buffers) {\n",
              "          for (const buffer of message.buffers) {\n",
              "            buffers.push(buffer);\n",
              "            downloaded += buffer.byteLength;\n",
              "            progress.value = downloaded;\n",
              "          }\n",
              "        }\n",
              "      }\n",
              "      const blob = new Blob(buffers, {type: 'application/binary'});\n",
              "      const a = document.createElement('a');\n",
              "      a.href = window.URL.createObjectURL(blob);\n",
              "      a.download = filename;\n",
              "      div.appendChild(a);\n",
              "      a.click();\n",
              "      div.remove();\n",
              "    }\n",
              "  "
            ],
            "text/plain": [
              "<IPython.core.display.Javascript object>"
            ]
          },
          "metadata": {}
        },
        {
          "output_type": "display_data",
          "data": {
            "application/javascript": [
              "download(\"download_ec54c47c-39c1-4def-9805-2a142b0c4b2e\", \"hawaii_covid_cases.csv\", 14099)"
            ],
            "text/plain": [
              "<IPython.core.display.Javascript object>"
            ]
          },
          "metadata": {}
        }
      ]
    }
  ]
}